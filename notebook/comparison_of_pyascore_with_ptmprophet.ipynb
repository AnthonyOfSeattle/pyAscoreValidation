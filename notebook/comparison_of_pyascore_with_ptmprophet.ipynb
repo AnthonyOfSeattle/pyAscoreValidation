{
 "cells": [
  {
   "cell_type": "code",
   "execution_count": 1,
   "id": "be55b8d1",
   "metadata": {},
   "outputs": [
    {
     "name": "stderr",
     "output_type": "stream",
     "text": [
      "<frozen importlib._bootstrap>:219: RuntimeWarning: scipy._lib.messagestream.MessageStream size changed, may indicate binary incompatibility. Expected 56 from C header, got 64 from PyObject\n"
     ]
    }
   ],
   "source": [
    "import re\n",
    "import numpy as np\n",
    "import pandas as pd\n",
    "import matplotlib.pyplot as plt\n",
    "import seaborn as sns\n",
    "\n",
    "from pyteomics.mzml import MzML\n",
    "from pyascore import SpectraParser, MassCorrector, PyAscore"
   ]
  },
  {
   "cell_type": "markdown",
   "id": "28273bc7",
   "metadata": {},
   "source": [
    "# Comparison of pyAscore's performance against PTMProphet"
   ]
  },
  {
   "cell_type": "markdown",
   "id": "728c4052",
   "metadata": {},
   "source": [
    "## 1) Intro"
   ]
  },
  {
   "cell_type": "markdown",
   "id": "1576fc5e",
   "metadata": {},
   "source": [
    "Since the original publication of the Ascore algorithm, several modern localization algorithms have been published which are designed especially to handle orbitrap high resolution data. Often, when Ascore was compared head to head with these tools, the parameter choices were taken from the original Ascore paper. Here, we will test pyAscore against PTMProphet, which is a state of the art PTM localization algorithm, and we will see affects the former's performance."
   ]
  },
  {
   "cell_type": "markdown",
   "id": "c5582f3a",
   "metadata": {},
   "source": [
    "In order to give a fair evaluation to PTMProphet, we will not be incorporating the tool into our previous pipeline for synthetic peptides. PTMProphet works best when used in conjunction with the Trans Proteomic Pipeline to first filter PSMs before scoring. Given, that we will take data straight from Shteynberg *et al.* (2019), and substitute pyAscore at the localization step, so that the differences from the original paper are minimized."
   ]
  },
  {
   "cell_type": "markdown",
   "id": "a1666af7",
   "metadata": {},
   "source": [
    "## 2) Load PTMProphet PSM data"
   ]
  },
  {
   "cell_type": "markdown",
   "id": "8af2bbc7",
   "metadata": {},
   "source": [
    "Here we will look at dataset \\#1 from PTMProphet's original paper. This has lower numbers of PSMs than other datasets within the paper, but all the data was taken on Thermo instruments, which means that creating a map between the PSMs and the original spectra should be rather straight forward"
   ]
  },
  {
   "cell_type": "code",
   "execution_count": 2,
   "id": "f03e67d3",
   "metadata": {},
   "outputs": [],
   "source": [
    "ptmprophet_results = pd.read_csv(\"../TPP/ptmprophet_PXD007058_results.csv\")\n",
    "select = np.logical_and(ptmprophet_results[\"peptide_sequence_exists\"].astype(bool),\n",
    "                        ptmprophet_results[\"precursor_match\"].astype(bool))\n",
    "ptmprophet_results = ptmprophet_results[select]\n",
    "ptmprophet_results = ptmprophet_results[ptmprophet_results[\"answer_peptide\"].str.count(\"[STY]\\[\") == 1]\n",
    "ptmprophet_results = ptmprophet_results.sort_values(\"info\", ascending=False)"
   ]
  },
  {
   "cell_type": "code",
   "execution_count": 3,
   "id": "38881349",
   "metadata": {},
   "outputs": [],
   "source": [
    "ptmprophet_results[\"N\"] = np.arange(1, ptmprophet_results.shape[0] + 1)\n",
    "ptmprophet_results[\"proportion\"] = ptmprophet_results[\"N\"]/ptmprophet_results.shape[0]\n",
    "ptmprophet_results[\"FLR\"] = np.cumsum(1 - ptmprophet_results[\"peptidoform_matches\"])/ptmprophet_results[\"N\"]"
   ]
  },
  {
   "cell_type": "code",
   "execution_count": 4,
   "id": "468ef5b6",
   "metadata": {},
   "outputs": [],
   "source": [
    "for i in reversed(range(ptmprophet_results.shape[0] - 1)):\n",
    "    ptmprophet_results[\"FLR\"].values[i] = min(ptmprophet_results[\"FLR\"].values[i],\n",
    "                                              ptmprophet_results[\"FLR\"].values[i+1])"
   ]
  },
  {
   "cell_type": "markdown",
   "id": "b479c00f",
   "metadata": {},
   "source": [
    "## 3) Compare pyAscore and PTMProphet"
   ]
  },
  {
   "cell_type": "markdown",
   "id": "462fd707",
   "metadata": {},
   "source": [
    "### 3.1) Run pyAscore in wide and narrow mode on spectra"
   ]
  },
  {
   "cell_type": "code",
   "execution_count": 5,
   "id": "fe51863b",
   "metadata": {},
   "outputs": [],
   "source": [
    "corrector = MassCorrector()\n",
    "def transform_sequence(seq):\n",
    "    stripped_sequence = re.sub(\"[^A-Z]\", \"\", seq)\n",
    "    tokenized_seq = re.findall(\"[A-Z][^A-Z]*\", seq)\n",
    "    \n",
    "    # Fix masses\n",
    "    mod_pos = []\n",
    "    mod_mass = []\n",
    "    for pos, aa in enumerate(tokenized_seq, 1):\n",
    "        mass_search = re.search(\"[0-9]+\", aa)\n",
    "        if mass_search is not None:\n",
    "            mod_pos.append(pos)\n",
    "            mod_mass.append(float(mass_search.group()))\n",
    "    mod_pos, mod_mass = corrector.correct_multiple(stripped_sequence,\n",
    "                                                   mod_pos, mod_mass)\n",
    "    # Get info\n",
    "    phos_select = np.isclose(mod_mass, 79.966331)\n",
    "    nphos = np.sum(phos_select)\n",
    "    aux_mod_pos = mod_pos[~phos_select].astype(np.uint32)\n",
    "    aux_mod_mass = mod_mass[~phos_select].astype(np.float32)\n",
    "\n",
    "    result = {\"peptide\" : stripped_sequence,\n",
    "              \"nphos\" : nphos,\n",
    "              \"aux_mod_pos\" : np.array(aux_mod_pos, dtype=np.uint32),\n",
    "              \"aux_mod_mass\" : np.array(aux_mod_mass, dtype=np.float32)}\n",
    "    \n",
    "    return result"
   ]
  },
  {
   "cell_type": "code",
   "execution_count": 6,
   "id": "bd73926e",
   "metadata": {},
   "outputs": [],
   "source": [
    "def check_sequences(seq1, seq2):\n",
    "    # Fix 1\n",
    "    seq1 = seq1.str.replace(\"(?<=[^STY])\\[[0-9]+\\]\", \"\", regex=True)\n",
    "    seq1 = seq1.str.replace(\"(?<=[STY])\\[[0-9]+\\]\", \"*\", regex=True)\n",
    "    \n",
    "    # Fix 2\n",
    "    seq2 = seq2.str.replace(\"(?<=[^STY])\\[[0-9]+\\]\", \"\", regex=True)\n",
    "    seq2 = seq2.str.replace(\"(?<=[STY])\\[[0-9]+\\]\", \"*\", regex=True)\n",
    "    \n",
    "    return seq1 == seq2"
   ]
  },
  {
   "cell_type": "code",
   "execution_count": 7,
   "id": "f24f238c",
   "metadata": {},
   "outputs": [],
   "source": [
    "ascore_results = ptmprophet_results.loc[:, [\"USI\"]]\n",
    "ascore_results = pd.concat(\n",
    "                     [ascore_results, ascore_results[\"USI\"].str.split(\":\", expand=True).iloc[:, [2, 4, 5]]],\n",
    "                     axis=1\n",
    "                 )\n",
    "ascore_results.columns = [\"USI\", \"sample\", \"scan\", \"sequence\"]\n",
    "ascore_results[\"scan\"] = ascore_results[\"scan\"].astype(int)\n",
    "ascore_results[\"charge\"] = ascore_results[\"sequence\"].str.replace(\".*/\", \"\", regex=True).astype(int)\n",
    "ascore_results[\"sequence\"] = ascore_results[\"sequence\"].str.replace(\"/.*\", \"\", regex=True)"
   ]
  },
  {
   "cell_type": "code",
   "execution_count": 8,
   "id": "54faad63",
   "metadata": {},
   "outputs": [],
   "source": [
    "spectra = {}\n",
    "for sample in ascore_results[\"sample\"].unique():\n",
    "    file_path = \"../TPP/\" + sample + \".mzML\"\n",
    "    mzml_reader = MzML(file_path)\n",
    "    spectra[sample] = {\n",
    "        spectra[\"index\"] + 1 : {\"mz_values\" : spectra.get(\"m/z array\", np.array([])),\n",
    "                                \"intensity_values\" : spectra.get(\"intensity array\", np.array([]))}\n",
    "        for spectra in mzml_reader\n",
    "    }"
   ]
  },
  {
   "cell_type": "code",
   "execution_count": 48,
   "id": "81bd35d5",
   "metadata": {},
   "outputs": [
    {
     "name": "stderr",
     "output_type": "stream",
     "text": [
      "/net/villen/vol2/users/valenta4/miniconda3/envs/pyascore/lib/python3.8/site-packages/pyascore/parsing/id_parsers.py:99: UserWarning: Unrecognized mod on E at position 1 with mass: -18.04258999999999 Using uncorrected mass.\n",
      "  warnings.warn(\"Unrecognized mod on {} at position {} with mass: {}\"\n",
      "/net/villen/vol2/users/valenta4/miniconda3/envs/pyascore/lib/python3.8/site-packages/pyascore/parsing/id_parsers.py:99: UserWarning: Unrecognized mod on W at position 3 with mass: 15.920690000000008 Using uncorrected mass.\n",
      "  warnings.warn(\"Unrecognized mod on {} at position {} with mass: {}\"\n",
      "/net/villen/vol2/users/valenta4/miniconda3/envs/pyascore/lib/python3.8/site-packages/pyascore/parsing/id_parsers.py:99: UserWarning: Unrecognized mod on W at position 10 with mass: 15.920690000000008 Using uncorrected mass.\n",
      "  warnings.warn(\"Unrecognized mod on {} at position {} with mass: {}\"\n",
      "/net/villen/vol2/users/valenta4/miniconda3/envs/pyascore/lib/python3.8/site-packages/pyascore/parsing/id_parsers.py:99: UserWarning: Unrecognized mod on W at position 1 with mass: 15.920690000000008 Using uncorrected mass.\n",
      "  warnings.warn(\"Unrecognized mod on {} at position {} with mass: {}\"\n"
     ]
    }
   ],
   "source": [
    "# Initialize pyAscore object\n",
    "mod_mass = 79.966331\n",
    "ascore = PyAscore(bin_size=100., n_top=10,\n",
    "                  mod_group=\"STY\",\n",
    "                  mod_mass=mod_mass,\n",
    "                  mz_error=.02)\n",
    "\n",
    "ascore_narrow_results = ascore_results.copy()\n",
    "ascore_narrow_results[\"ascoreSequence\"] = \"\"\n",
    "ascore_narrow_results[\"ascore\"] = 0.\n",
    "for ind in range(ascore_narrow_results.shape[0]):\n",
    "    psm = ascore_narrow_results.iloc[ind]\n",
    "    spectrum = spectra[psm[\"sample\"]][psm[\"scan\"]]\n",
    "    peptide_info = transform_sequence(psm[\"sequence\"])\n",
    "    \n",
    "    ascore.score(mz_arr = spectrum[\"mz_values\"],\n",
    "                 int_arr = spectrum[\"intensity_values\"],\n",
    "                 peptide = peptide_info[\"peptide\"],\n",
    "                 n_of_mod = peptide_info[\"nphos\"],\n",
    "                 max_fragment_charge = psm[\"charge\"] - 1,\n",
    "                 aux_mod_pos = peptide_info[\"aux_mod_pos\"],\n",
    "                 aux_mod_mass = peptide_info[\"aux_mod_mass\"])\n",
    "    \n",
    "    ascore_narrow_results[\"ascoreSequence\"].values[ind] = ascore.best_sequence\n",
    "    ascore_narrow_results[\"ascore\"].values[ind] = ascore.ascores[0]"
   ]
  },
  {
   "cell_type": "code",
   "execution_count": 49,
   "id": "523103fe",
   "metadata": {},
   "outputs": [],
   "source": [
    "ascore_narrow_results = ascore_narrow_results.join(ptmprophet_results.loc[:, [\"USI\", \"answer_peptide\"]]\\\n",
    "                                                                     .set_index(\"USI\"),\n",
    "                                                   on=\"USI\")\\\n",
    "                                             .sort_values(\"ascore\", ascending=False)\n",
    "ascore_narrow_results[\"match\"] = check_sequences(ascore_narrow_results.ascoreSequence, \n",
    "                                                 ascore_narrow_results.answer_peptide)\n",
    "\n",
    "ascore_narrow_results[\"N\"] = np.arange(1, ascore_narrow_results.shape[0] + 1)\n",
    "ascore_narrow_results[\"proportion\"] = ascore_narrow_results[\"N\"]/ascore_narrow_results.shape[0]\n",
    "ascore_narrow_results[\"FLR\"] = np.cumsum(~ascore_narrow_results[\"match\"])/ascore_narrow_results[\"N\"]\n",
    "for i in reversed(range(ascore_narrow_results.shape[0] - 1)):\n",
    "    ascore_narrow_results[\"FLR\"].values[i] = min(ascore_narrow_results[\"FLR\"].values[i],\n",
    "                                                 ascore_narrow_results[\"FLR\"].values[i+1])"
   ]
  },
  {
   "cell_type": "code",
   "execution_count": 50,
   "id": "77123d7f",
   "metadata": {},
   "outputs": [
    {
     "name": "stderr",
     "output_type": "stream",
     "text": [
      "/net/villen/vol2/users/valenta4/miniconda3/envs/pyascore/lib/python3.8/site-packages/pyascore/parsing/id_parsers.py:99: UserWarning: Unrecognized mod on E at position 1 with mass: -18.04258999999999 Using uncorrected mass.\n",
      "  warnings.warn(\"Unrecognized mod on {} at position {} with mass: {}\"\n",
      "/net/villen/vol2/users/valenta4/miniconda3/envs/pyascore/lib/python3.8/site-packages/pyascore/parsing/id_parsers.py:99: UserWarning: Unrecognized mod on W at position 3 with mass: 15.920690000000008 Using uncorrected mass.\n",
      "  warnings.warn(\"Unrecognized mod on {} at position {} with mass: {}\"\n",
      "/net/villen/vol2/users/valenta4/miniconda3/envs/pyascore/lib/python3.8/site-packages/pyascore/parsing/id_parsers.py:99: UserWarning: Unrecognized mod on W at position 10 with mass: 15.920690000000008 Using uncorrected mass.\n",
      "  warnings.warn(\"Unrecognized mod on {} at position {} with mass: {}\"\n",
      "/net/villen/vol2/users/valenta4/miniconda3/envs/pyascore/lib/python3.8/site-packages/pyascore/parsing/id_parsers.py:99: UserWarning: Unrecognized mod on W at position 1 with mass: 15.920690000000008 Using uncorrected mass.\n",
      "  warnings.warn(\"Unrecognized mod on {} at position {} with mass: {}\"\n"
     ]
    }
   ],
   "source": [
    "# Initialize pyAscore object\n",
    "mod_mass = 79.966331\n",
    "ascore = PyAscore(bin_size=100., n_top=10,\n",
    "                  mod_group=\"STY\",\n",
    "                  mod_mass=mod_mass,\n",
    "                  mz_error=.5)\n",
    "\n",
    "ascore_wide_results = ascore_results.copy()\n",
    "ascore_wide_results[\"ascoreSequence\"] = \"\"\n",
    "ascore_wide_results[\"ascore\"] = 0.\n",
    "for ind in range(ascore_wide_results.shape[0]):\n",
    "    psm = ascore_wide_results.iloc[ind]\n",
    "    spectrum = spectra[psm[\"sample\"]][psm[\"scan\"]]\n",
    "    peptide_info = transform_sequence(psm[\"sequence\"])\n",
    "    \n",
    "    ascore.score(mz_arr = spectrum[\"mz_values\"],\n",
    "                 int_arr = spectrum[\"intensity_values\"],\n",
    "                 peptide = peptide_info[\"peptide\"],\n",
    "                 n_of_mod = peptide_info[\"nphos\"],\n",
    "                 max_fragment_charge = psm[\"charge\"] - 1,\n",
    "                 aux_mod_pos = peptide_info[\"aux_mod_pos\"],\n",
    "                 aux_mod_mass = peptide_info[\"aux_mod_mass\"])\n",
    "    \n",
    "    ascore_wide_results[\"ascoreSequence\"].values[ind] = ascore.best_sequence\n",
    "    ascore_wide_results[\"ascore\"].values[ind] = ascore.ascores[0]"
   ]
  },
  {
   "cell_type": "code",
   "execution_count": 51,
   "id": "df838e00",
   "metadata": {},
   "outputs": [],
   "source": [
    "ascore_wide_results = ascore_wide_results.join(ptmprophet_results.loc[:, [\"USI\", \"answer_peptide\"]]\\\n",
    "                                                                     .set_index(\"USI\"),\n",
    "                                                   on=\"USI\")\\\n",
    "                                               .sort_values(\"ascore\", ascending=False)\n",
    "ascore_wide_results[\"match\"] = check_sequences(ascore_wide_results.ascoreSequence, \n",
    "                                               ascore_wide_results.answer_peptide)\n",
    "\n",
    "ascore_wide_results[\"N\"] = np.arange(1, ascore_wide_results.shape[0] + 1)\n",
    "ascore_wide_results[\"proportion\"] = ascore_wide_results[\"N\"]/ascore_wide_results.shape[0]\n",
    "ascore_wide_results[\"FLR\"] = np.cumsum(~ascore_wide_results[\"match\"])/ascore_wide_results[\"N\"]\n",
    "for i in reversed(range(ascore_wide_results.shape[0] - 1)):\n",
    "    ascore_wide_results[\"FLR\"].values[i] = min(ascore_wide_results[\"FLR\"].values[i],\n",
    "                                               ascore_wide_results[\"FLR\"].values[i+1])"
   ]
  },
  {
   "cell_type": "code",
   "execution_count": 78,
   "id": "a78c8982",
   "metadata": {},
   "outputs": [
    {
     "data": {
      "image/png": "[encoded data removed]",
      "text/plain": [
       "<Figure size 360x360 with 1 Axes>"
      ]
     },
     "metadata": {
      "needs_background": "light"
     },
     "output_type": "display_data"
    }
   ],
   "source": [
    "plt.figure(figsize=[5, 5])\n",
    "\n",
    "sns.lineplot(x=\"proportion\", y=\"FLR\",\n",
    "             data=ascore_wide_results[ascore_wide_results.FLR < 0.05],\n",
    "             lw=4,\n",
    "             color=\"#461554\",\n",
    "             alpha=.6,\n",
    "             label=\"pyAscore (wide)\")\n",
    "\n",
    "sns.lineplot(x=\"proportion\", y=\"FLR\",\n",
    "             data=ascore_narrow_results[ascore_narrow_results.FLR < 0.05],\n",
    "             lw=4,\n",
    "             color=\"#30708d\",\n",
    "             alpha=.6,\n",
    "             label=\"pyAscore (narrow)\")\n",
    "\n",
    "sns.lineplot(x=\"proportion\", y=\"FLR\",\n",
    "             data=ptmprophet_results[ptmprophet_results.FLR < 0.05],\n",
    "             lw=4,\n",
    "             color=\"#56c566\",\n",
    "             alpha=.6,\n",
    "             label=\"PTMProphet\")\n",
    "\n",
    "plt.xticks([0, .2, .4, .6, .8])\n",
    "plt.yticks([0, .01, .02, .03, .04, .05])\n",
    "plt.xlabel(\"Proportion of Scored PSMs\", size=24)\n",
    "plt.ylabel(\"False localization rate\", size=24)\n",
    "plt.tick_params(labelsize=20)\n",
    "plt.legend(fontsize=24,\n",
    "           frameon=False,\n",
    "           bbox_to_anchor=(1, 1))\n",
    "\n",
    "sns.despine()\n",
    "plt.savefig(\"figures/pyascore_ptmprophet_comparison.svg\",\n",
    "            bbox_inches=\"tight\",\n",
    "            facecolor=\"white\")\n",
    "plt.show()"
   ]
  },
  {
   "cell_type": "code",
   "execution_count": 79,
   "id": "b9bab436",
   "metadata": {},
   "outputs": [
    {
     "data": {
      "text/html": [
       "<div>\n",
       "<style scoped>\n",
       "    .dataframe tbody tr th:only-of-type {\n",
       "        vertical-align: middle;\n",
       "    }\n",
       "\n",
       "    .dataframe tbody tr th {\n",
       "        vertical-align: top;\n",
       "    }\n",
       "\n",
       "    .dataframe thead th {\n",
       "        text-align: right;\n",
       "    }\n",
       "</style>\n",
       "<table border=\"1\" class=\"dataframe\">\n",
       "  <thead>\n",
       "    <tr style=\"text-align: right;\">\n",
       "      <th></th>\n",
       "      <th>cutoff</th>\n",
       "      <th>pyAscore (wide)</th>\n",
       "      <th>pyAscore (narrow)</th>\n",
       "      <th>PTMProphet</th>\n",
       "    </tr>\n",
       "  </thead>\n",
       "  <tbody>\n",
       "    <tr>\n",
       "      <th>0</th>\n",
       "      <td>0.01</td>\n",
       "      <td>465</td>\n",
       "      <td>823</td>\n",
       "      <td>972</td>\n",
       "    </tr>\n",
       "    <tr>\n",
       "      <th>1</th>\n",
       "      <td>0.02</td>\n",
       "      <td>607</td>\n",
       "      <td>980</td>\n",
       "      <td>1020</td>\n",
       "    </tr>\n",
       "    <tr>\n",
       "      <th>2</th>\n",
       "      <td>0.03</td>\n",
       "      <td>644</td>\n",
       "      <td>1022</td>\n",
       "      <td>1070</td>\n",
       "    </tr>\n",
       "    <tr>\n",
       "      <th>3</th>\n",
       "      <td>0.04</td>\n",
       "      <td>760</td>\n",
       "      <td>1041</td>\n",
       "      <td>1095</td>\n",
       "    </tr>\n",
       "    <tr>\n",
       "      <th>4</th>\n",
       "      <td>0.05</td>\n",
       "      <td>896</td>\n",
       "      <td>1066</td>\n",
       "      <td>1128</td>\n",
       "    </tr>\n",
       "  </tbody>\n",
       "</table>\n",
       "</div>"
      ],
      "text/plain": [
       "   cutoff  pyAscore (wide)  pyAscore (narrow)  PTMProphet\n",
       "0    0.01              465                823         972\n",
       "1    0.02              607                980        1020\n",
       "2    0.03              644               1022        1070\n",
       "3    0.04              760               1041        1095\n",
       "4    0.05              896               1066        1128"
      ]
     },
     "execution_count": 79,
     "metadata": {},
     "output_type": "execute_result"
    }
   ],
   "source": [
    "correct_count = []\n",
    "for cutoff in [.01, .02, .03, .04, .05]:\n",
    "    correct_count.append(\n",
    "        {\"cutoff\" : cutoff,\n",
    "         \"pyAscore (wide)\" : ascore_wide_results[ascore_wide_results.FLR < cutoff].shape[0],\n",
    "         \"pyAscore (narrow)\" : ascore_narrow_results[ascore_narrow_results.FLR < cutoff].shape[0],\n",
    "         \"PTMProphet\" : ptmprophet_results[ptmprophet_results.FLR < cutoff].shape[0]}\n",
    "    )\n",
    "\n",
    "correct_count = pd.DataFrame.from_records(correct_count)\n",
    "correct_count"
   ]
  },
  {
   "cell_type": "code",
   "execution_count": 85,
   "id": "51f5378e",
   "metadata": {},
   "outputs": [
    {
     "data": {
      "image/png": "[encoded data removed]",
      "text/plain": [
       "<Figure size 504x360 with 1 Axes>"
      ]
     },
     "metadata": {
      "needs_background": "light"
     },
     "output_type": "display_data"
    }
   ],
   "source": [
    "joined_matches = ptmprophet_results.set_index(\"USI\")\\\n",
    "                                   .loc[:, [\"peptidoform_matches\", \"FLR\"]]\\\n",
    "                                   .rename({\"peptidoform_matches\": \"match\"},\n",
    "                                           axis=1)\\\n",
    "                                   .astype({\"match\": bool})\\\n",
    "                                   .join(ascore_narrow_results.set_index(\"USI\").loc[:, [\"match\", \"FLR\"]],\n",
    "                                         lsuffix=\"_ptmprophet\", rsuffix=\"_pyascore\")\n",
    "\n",
    "error_overlap = []\n",
    "for cutoff in [0.01, 0.05]:\n",
    "    select = np.logical_or(joined_matches.FLR_ptmprophet < cutoff,\n",
    "                           joined_matches.FLR_pyascore < cutoff)\n",
    "    overlap = np.sum(np.logical_and(~joined_matches[select].match_ptmprophet,\n",
    "                                    ~joined_matches[select].match_pyascore))\n",
    "    unique_ptmprophet = np.sum(~joined_matches[select].match_ptmprophet) - overlap\n",
    "    unique_pyascore = np.sum(~joined_matches[select].match_pyascore) - overlap\n",
    "    error_overlap.append({\"cutoff\" : cutoff,\n",
    "                          \"Overlap\" : overlap,\n",
    "                          \"PTMProphet only\" : unique_ptmprophet,\n",
    "                          \"pyAscore only\" : unique_pyascore})\n",
    "    \n",
    "error_overlap = pd.DataFrame.from_records(error_overlap)\n",
    "\n",
    "plt.figure(figsize=[7, 5])\n",
    "\n",
    "sns.barplot(data = error_overlap.melt(id_vars=\"cutoff\"),\n",
    "            x=\"cutoff\",\n",
    "            y=\"value\",\n",
    "            hue=\"variable\",\n",
    "            palette=[\"#461554\", \"#56c566\", \"#30708d\"],\n",
    "            alpha=.75)\n",
    "\n",
    "plt.legend(fontsize=24,\n",
    "           frameon=False,\n",
    "           bbox_to_anchor=(1, 1))\n",
    "\n",
    "plt.ylim(0, 100)\n",
    "plt.xlabel(\"FLR Cutoff\", size=30)\n",
    "plt.ylabel(\"Incorrect PSMs\", size=30)\n",
    "plt.tick_params(labelsize=26)\n",
    "sns.despine()\n",
    "plt.savefig(\"figures/pyascore_ptmprophet_incorrect_barplot.svg\",\n",
    "            bbox_inches=\"tight\",\n",
    "            facecolor=\"white\")\n",
    "plt.show()"
   ]
  }
 ],
 "metadata": {
  "kernelspec": {
   "display_name": "Python 3 (ipykernel)",
   "language": "python",
   "name": "python3"
  },
  "language_info": {
   "codemirror_mode": {
    "name": "ipython",
    "version": 3
   },
   "file_extension": ".py",
   "mimetype": "text/x-python",
   "name": "python",
   "nbconvert_exporter": "python",
   "pygments_lexer": "ipython3",
   "version": "3.8.12"
  }
 },
 "nbformat": 4,
 "nbformat_minor": 5
}
