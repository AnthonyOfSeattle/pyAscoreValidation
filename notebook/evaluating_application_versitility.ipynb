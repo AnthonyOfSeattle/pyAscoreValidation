{
 "cells": [
  {
   "cell_type": "code",
   "execution_count": 1,
   "id": "dadf8acc",
   "metadata": {},
   "outputs": [
    {
     "name": "stderr",
     "output_type": "stream",
     "text": [
      "<frozen importlib._bootstrap>:219: RuntimeWarning: scipy._lib.messagestream.MessageStream size changed, may indicate binary incompatibility. Expected 56 from C header, got 64 from PyObject\n"
     ]
    }
   ],
   "source": [
    "import re\n",
    "import numpy as np\n",
    "import pandas as pd\n",
    "import matplotlib.pyplot as plt\n",
    "import seaborn as sns\n",
    "from glob import glob"
   ]
  },
  {
   "cell_type": "markdown",
   "id": "601d3efd",
   "metadata": {},
   "source": [
    "# Showing that pyAscore works on multiple types of data"
   ]
  },
  {
   "cell_type": "markdown",
   "id": "76d307c9",
   "metadata": {},
   "source": [
    "## 1) Intro"
   ]
  },
  {
   "cell_type": "markdown",
   "id": "3c665f3a",
   "metadata": {},
   "source": [
    "While it is difficult to say objectively how well pyAscore is working on any one dataset, the ability to handle multiple data types without flinching is important. This gives us insight into how easy it would be to incorporate pyAscore into multiple different workflows. Here we will look at three datasets -- PXD007740, a label free phosphoproteomics dataset, PXD007145, a TMT phosphoproteomics dataset, and MSV000079068, a label free acetylation datasets. Interestingly, the final dataset, gives us the ability to take a first pass look at the performance of pyAscore, since we typically enforce that acetylation is not allowed to occur on c-terminal lysines. However, here we do not enforce that, so most c-terminal lysines can be taken as false."
   ]
  },
  {
   "cell_type": "markdown",
   "id": "86a306c4",
   "metadata": {},
   "source": [
    "## 2) Load PSMs to score"
   ]
  },
  {
   "cell_type": "code",
   "execution_count": 2,
   "id": "3c070c31",
   "metadata": {},
   "outputs": [],
   "source": [
    "datasets = [\"PXD007740\", \"MSV000079068\", \"PXD007145\"]\n",
    "\n",
    "psms = []\n",
    "for d in datasets:\n",
    "    dataset_psms = pd.read_csv(\"../results/search/{ds}/{ds}.mokapot.psms.txt\".format(ds=d),\n",
    "                               sep=\"\\t\")\n",
    "    dataset_psms = dataset_psms[dataset_psms[\"mokapot q-value\"] < 0.01]\n",
    "    dataset_psms[\"dataset\"] = d\n",
    "    dataset_psms[\"sample\"] = dataset_psms.SpecId.str.replace(\"_[0-9]+_[0-9]+_[0-9]+$\", \"\", regex=True)\n",
    "    psms.append(dataset_psms)\n",
    "    \n",
    "psms = pd.concat(psms)"
   ]
  },
  {
   "cell_type": "markdown",
   "id": "0933c087",
   "metadata": {},
   "source": [
    "## 3) Count number of localized PSMs"
   ]
  },
  {
   "cell_type": "markdown",
   "id": "531be296",
   "metadata": {},
   "source": [
    "A common cutoff in the literature for localization is an Ascore of 20, so here we will look to quantify how many PSMs have at least one site that passes that threshold. This should give us a sense of the typical performance accross multiple datasets."
   ]
  },
  {
   "cell_type": "code",
   "execution_count": 3,
   "id": "497fba36",
   "metadata": {},
   "outputs": [],
   "source": [
    "sample_df = psms.groupby([\"dataset\", \"sample\"]).SpecId.count().reset_index()\n",
    "scores = []\n",
    "for d, s in zip(sample_df[\"dataset\"], sample_df[\"sample\"]):\n",
    "    pyascore_data = pd.read_csv(\"../results/localization/{}/{}.pyascore.narrow.txt\".format(d, s),\n",
    "                                sep=\"\\t\")\n",
    "    pyascore_data[\"dataset\"] = d\n",
    "    pyascore_data[\"sample\"] = s\n",
    "    scores.append(pyascore_data)\n",
    "\n",
    "scores = pd.concat(scores)\n",
    "scores = scores.join(psms.set_index([\"sample\", \"ScanNr\"]).SpecId,\n",
    "                     on=[\"sample\", \"Scan\"],\n",
    "                     how=\"inner\")"
   ]
  },
  {
   "cell_type": "code",
   "execution_count": 4,
   "id": "30fa5308",
   "metadata": {},
   "outputs": [],
   "source": [
    "cutoff = 20\n",
    "scores[\"nLocalized\"] = scores.apply(lambda row: np.sum([float(s) > cutoff for s in row.Ascores.split(\";\")]),\n",
    "                                    axis=1)"
   ]
  },
  {
   "cell_type": "code",
   "execution_count": 5,
   "id": "8d829ea6",
   "metadata": {},
   "outputs": [
    {
     "data": {
      "text/html": [
       "<div>\n",
       "<style scoped>\n",
       "    .dataframe tbody tr th:only-of-type {\n",
       "        vertical-align: middle;\n",
       "    }\n",
       "\n",
       "    .dataframe tbody tr th {\n",
       "        vertical-align: top;\n",
       "    }\n",
       "\n",
       "    .dataframe thead th {\n",
       "        text-align: right;\n",
       "    }\n",
       "</style>\n",
       "<table border=\"1\" class=\"dataframe\">\n",
       "  <thead>\n",
       "    <tr style=\"text-align: right;\">\n",
       "      <th></th>\n",
       "      <th>dataset</th>\n",
       "      <th>stat</th>\n",
       "      <th>value</th>\n",
       "    </tr>\n",
       "  </thead>\n",
       "  <tbody>\n",
       "    <tr>\n",
       "      <th>0</th>\n",
       "      <td>MSV000079068</td>\n",
       "      <td>atLeast1</td>\n",
       "      <td>7655.000000</td>\n",
       "    </tr>\n",
       "    <tr>\n",
       "      <th>1</th>\n",
       "      <td>MSV000079068</td>\n",
       "      <td>total</td>\n",
       "      <td>8174.666667</td>\n",
       "    </tr>\n",
       "    <tr>\n",
       "      <th>2</th>\n",
       "      <td>PXD007145</td>\n",
       "      <td>atLeast1</td>\n",
       "      <td>4003.000000</td>\n",
       "    </tr>\n",
       "    <tr>\n",
       "      <th>3</th>\n",
       "      <td>PXD007145</td>\n",
       "      <td>total</td>\n",
       "      <td>6252.000000</td>\n",
       "    </tr>\n",
       "    <tr>\n",
       "      <th>4</th>\n",
       "      <td>PXD007740</td>\n",
       "      <td>atLeast1</td>\n",
       "      <td>7796.000000</td>\n",
       "    </tr>\n",
       "    <tr>\n",
       "      <th>5</th>\n",
       "      <td>PXD007740</td>\n",
       "      <td>total</td>\n",
       "      <td>12096.333333</td>\n",
       "    </tr>\n",
       "  </tbody>\n",
       "</table>\n",
       "</div>"
      ],
      "text/plain": [
       "        dataset      stat         value\n",
       "0  MSV000079068  atLeast1   7655.000000\n",
       "1  MSV000079068     total   8174.666667\n",
       "2     PXD007145  atLeast1   4003.000000\n",
       "3     PXD007145     total   6252.000000\n",
       "4     PXD007740  atLeast1   7796.000000\n",
       "5     PXD007740     total  12096.333333"
      ]
     },
     "execution_count": 5,
     "metadata": {},
     "output_type": "execute_result"
    }
   ],
   "source": [
    "score_counts = scores.groupby([\"dataset\", \"sample\"])\\\n",
    "                     .apply(lambda df: pd.Series({\"total\" : df.shape[0],\n",
    "                                                  \"atLeast1\" : np.sum(df.nLocalized > 0)}))\\\n",
    "                     .melt(var_name = \"stat\", ignore_index=False)\\\n",
    "                     .reset_index()\\\n",
    "                     .sort_values([\"dataset\", \"stat\"], ascending=False)\n",
    "score_counts.groupby([\"dataset\", \"stat\"]).value.mean().reset_index()"
   ]
  },
  {
   "cell_type": "code",
   "execution_count": 6,
   "id": "20d600a3",
   "metadata": {},
   "outputs": [
    {
     "data": {
      "text/plain": [
       "dataset\n",
       "MSV000079068    0.936427\n",
       "PXD007145       0.640580\n",
       "PXD007740       0.644220\n",
       "Name: prop, dtype: float64"
      ]
     },
     "execution_count": 6,
     "metadata": {},
     "output_type": "execute_result"
    }
   ],
   "source": [
    "score_counts.groupby([\"dataset\", \"sample\"])\\\n",
    "            .apply(lambda df : pd.Series({\"prop\" : df[\"value\"].values[1]/df[\"value\"].values[0]}))\\\n",
    "            .reset_index()\\\n",
    "            .groupby(\"dataset\")\\\n",
    "            .prop.mean()"
   ]
  },
  {
   "cell_type": "code",
   "execution_count": 7,
   "id": "76fb7d56",
   "metadata": {},
   "outputs": [
    {
     "data": {
      "image/png": "[encoded data removed]",
      "text/plain": [
       "<Figure size 288x360 with 1 Axes>"
      ]
     },
     "metadata": {
      "needs_background": "light"
     },
     "output_type": "display_data"
    }
   ],
   "source": [
    "fig = plt.figure(figsize=[4, 5])\n",
    "\n",
    "np.random.seed(4)\n",
    "sns.barplot(data = score_counts,\n",
    "            x=\"dataset\",\n",
    "            y=\"value\",\n",
    "            hue=\"stat\",\n",
    "            palette=[\"#461554\", \"#30708d\"],\n",
    "            alpha=.75,\n",
    "            ci=None)\n",
    "\n",
    "sns.stripplot(data = score_counts,\n",
    "              x=\"dataset\",\n",
    "              y=\"value\",\n",
    "              hue=\"stat\",\n",
    "              color=\"black\",\n",
    "              dodge=True,\n",
    "              jitter=.2,\n",
    "              s=7)\n",
    "\n",
    "plt.xlabel(\"\")\n",
    "plt.ylabel(\"Number of PSMs\", size=24)\n",
    "plt.tick_params(labelsize=20)\n",
    "plt.xticks(rotation=25, ha='right')\n",
    "\n",
    "handles, labels = fig.axes[0].get_legend_handles_labels()\n",
    "plt.legend(handles[2:],\n",
    "           [\"PSMs With Mod\", \"$\\geq$1 Site Localized\"],\n",
    "           fontsize=20,\n",
    "           bbox_to_anchor=(0.2, 1.05),\n",
    "           frameon=False)\n",
    "\n",
    "sns.despine()\n",
    "plt.savefig(\"figures/localized_psm_barplot.svg\",\n",
    "            bbox_inches=\"tight\",\n",
    "            facecolor=\"white\")\n",
    "plt.show()"
   ]
  },
  {
   "cell_type": "markdown",
   "id": "6cee5839",
   "metadata": {},
   "source": [
    "Interestingly, above we see that acetylation seems to localize more sites that phosphorylation. This is almost enirely due to the fact that there are typically much less acceptor sites for acetylation on a peptide."
   ]
  },
  {
   "cell_type": "markdown",
   "id": "d7b7c246",
   "metadata": {},
   "source": [
    "### Check Acetylation data"
   ]
  },
  {
   "cell_type": "markdown",
   "id": "e7639de6",
   "metadata": {},
   "source": [
    "As stated above, acetylation on the c-terminal lysine is almost garunteed not to happen. Thus, by counting how often this occures, we can get a first pass sense of the false localization rate of pyAscore."
   ]
  },
  {
   "cell_type": "code",
   "execution_count": 8,
   "id": "9c020005",
   "metadata": {},
   "outputs": [
    {
     "name": "stderr",
     "output_type": "stream",
     "text": [
      "/tmp/287087378.1.villen-login.q/ipykernel_3499/426772791.py:9: UserWarning: This pattern is interpreted as a regular expression, and has match groups. To actually get the groups, use str.extract.\n",
      "  single_acetyl[\"hasCTermK\"] = single_acetyl.LocalizedSequence.str.contains(\"K(\\\\[42\\])?$\")\n"
     ]
    }
   ],
   "source": [
    "acetyl = scores[scores[\"dataset\"] == \"MSV000079068\"]\n",
    "single_acetyl = acetyl[acetyl.LocalizedSequence.str.count(\"K\\[42\\]\") == 1] # \"K\\[42\\]\"\n",
    "single_acetyl = single_acetyl.copy()\n",
    "single_acetyl[\"Ascores\"] = single_acetyl[\"Ascores\"].astype(float)\n",
    "single_acetyl = single_acetyl[single_acetyl.Ascores < np.inf]\n",
    "single_acetyl = single_acetyl.sort_values(\"Ascores\", ascending=False)\n",
    "\n",
    "single_acetyl[\"internalCount\"] = single_acetyl.LocalizedSequence.str.count(\"K(\\[[^A-Z]+\\])?[A-Z]\")\n",
    "single_acetyl[\"hasCTermK\"] = single_acetyl.LocalizedSequence.str.contains(\"K(\\\\[42\\])?$\")\n",
    "single_acetyl = single_acetyl[np.logical_and(single_acetyl.internalCount >= 1, single_acetyl.hasCTermK)]"
   ]
  },
  {
   "cell_type": "code",
   "execution_count": 9,
   "id": "f80b610a",
   "metadata": {},
   "outputs": [],
   "source": [
    "single_acetyl[\"cTermAcetyl\"] = single_acetyl.LocalizedSequence.str.contains(\"K\\[42\\]$\")\n",
    "single_acetyl[\"cTermAcetylCount\"] = np.cumsum(single_acetyl[\"cTermAcetyl\"])\n",
    "single_acetyl[\"flr\"] = single_acetyl[\"cTermAcetylCount\"] / np.arange(1, single_acetyl.shape[0] + 1)"
   ]
  },
  {
   "cell_type": "code",
   "execution_count": 10,
   "id": "8cc832d9",
   "metadata": {},
   "outputs": [
    {
     "name": "stdout",
     "output_type": "stream",
     "text": [
      "Ascore 20 FLR: 0.007875894988066826\n"
     ]
    },
    {
     "data": {
      "image/png": "[encoded data removed]",
      "text/plain": [
       "<Figure size 288x360 with 1 Axes>"
      ]
     },
     "metadata": {
      "needs_background": "light"
     },
     "output_type": "display_data"
    }
   ],
   "source": [
    "plt.figure(figsize=[4, 5])\n",
    "\n",
    "select = single_acetyl.Ascores > 0.\n",
    "plt.plot(single_acetyl[select].Ascores,\n",
    "         single_acetyl[select].flr,\n",
    "         lw=3,\n",
    "         c=\"#30708d\")\n",
    "\n",
    "point = single_acetyl[single_acetyl.Ascores >= 20].iloc[-1]\n",
    "print(\"Ascore 20 FLR: {}\".format(point.flr))\n",
    "plt.scatter(point.Ascores,\n",
    "            point.flr,\n",
    "            s=100,\n",
    "            c=\"black\",\n",
    "            zorder=10)\n",
    "\n",
    "plt.tick_params(labelsize=20)\n",
    "plt.xlabel(\"Ascore\", size=24)\n",
    "plt.ylabel(\"Proportion C-term\\n Acetylation\",\n",
    "           size=24)\n",
    "plt.xlim(0, 200)\n",
    "plt.xticks([0, 50, 100, 150, 200],\n",
    "           [\"0\", \"50\", \"100\", \"150\", \"$\\geq$200\"])\n",
    "\n",
    "sns.despine()\n",
    "plt.savefig(\"figures/cterm_acetylation_test.svg\",\n",
    "            bbox_inches=\"tight\",\n",
    "            facecolor=\"white\")\n",
    "plt.show()"
   ]
  },
  {
   "cell_type": "markdown",
   "id": "9a57bc39",
   "metadata": {},
   "source": [
    "The decreasing trend with increasing Ascore is exactly what we want to see and gives us confidence that pyAscore is doing what it is supposed to. In all, we can expect quite good performance from an Ascore cutoff of 20, and there doesn't seem to be much reason not to recommend it."
   ]
  },
  {
   "cell_type": "code",
   "execution_count": null,
   "id": "cb657f12",
   "metadata": {},
   "outputs": [],
   "source": []
  }
 ],
 "metadata": {
  "kernelspec": {
   "display_name": "Python 3 (ipykernel)",
   "language": "python",
   "name": "python3"
  },
  "language_info": {
   "codemirror_mode": {
    "name": "ipython",
    "version": 3
   },
   "file_extension": ".py",
   "mimetype": "text/x-python",
   "name": "python",
   "nbconvert_exporter": "python",
   "pygments_lexer": "ipython3",
   "version": "3.8.12"
  }
 },
 "nbformat": 4,
 "nbformat_minor": 5
}
