{
 "cells": [
  {
   "cell_type": "markdown",
   "id": "83145392",
   "metadata": {},
   "source": [
    "# Using pyAscore for scoring PTM localization"
   ]
  },
  {
   "cell_type": "markdown",
   "id": "163453ea",
   "metadata": {},
   "source": [
    "In this document, we will look at the most common command line workflows for scoring phosphosite localizations. We will focus on the specification and meaning of the most important inputs and arguments before discussing the interpretation of results. For an up-to-date explanation of installation instructions, all command line parameters, and how to use the Python API, readers can refer to pyAscore's full documentation at [https://pyascore.readthedocs.io](https://pyascore.readthedocs.io)."
   ]
  },
  {
   "cell_type": "markdown",
   "id": "61af1dac",
   "metadata": {},
   "source": [
    "## Input to pyAscore"
   ]
  },
  {
   "cell_type": "markdown",
   "id": "17683a38",
   "metadata": {},
   "source": [
    "Scoring the localization of post-translational modifications occurs after database search has been performed on a set of spectra. pyAscore takes as input both the spectra file and a file of identifications."
   ]
  },
  {
   "cell_type": "markdown",
   "id": "ecc03125",
   "metadata": {},
   "source": [
    "In many cases, users may have a set of spectra files whose searches have been aggregated into a final set of identifications. Before using pyAscore, these identification files should be split up so that each file of IDs only corresponds to a single spectra file. See section 2.3 bellow for an input file format that works well for this situation."
   ]
  },
  {
   "cell_type": "markdown",
   "id": "43aba268",
   "metadata": {},
   "source": [
    "At the folowing github link, users can download a reduced version of one the samples analyzed in the main manuscript, **PXD007740.ctr_2h_R1_IMAC_1.mzML**, which is a representative human phosphoproteome run. This is the file where pyAscore will look for spectra to score. We have already analyzed this file using Comet for database search, and so users should also download the result file from the same link, **PXD007740.ctr_2h_R1_IMAC_1.pep.xml**."
   ]
  },
  {
   "cell_type": "markdown",
   "id": "2ffa91fa",
   "metadata": {},
   "source": [
    "**Tutorial File Link:**\n",
    "\n",
    "[https://github.com/AnthonyOfSeattle/pyAscoreValidation/tree/main/notebook/pyascore-tutorial](https://github.com/AnthonyOfSeattle/pyAscoreValidation/tree/main/notebook/pyascore-tutorial)"
   ]
  },
  {
   "cell_type": "markdown",
   "id": "f73cc732",
   "metadata": {},
   "source": [
    "## Command line usage"
   ]
  },
  {
   "cell_type": "markdown",
   "id": "fbc82306",
   "metadata": {},
   "source": [
    "### Basic command line usage"
   ]
  },
  {
   "cell_type": "markdown",
   "id": "8cd11d8a",
   "metadata": {},
   "source": [
    "Once installed, pyAscore can be used with a simple command line call that takes a spectra file, identification file, and output file as positional arguments. By default, pyAscore will accept spectra in the mzML format and PSMs in pepXML format. The modification of interest can be specified by passing the modifiable amino acids with their single letter codes through the `--residues` command line argument and the mass of the modification through the `--mod-mass` command line argument. For example, if a user wants to analyze phosphorylation, they would specify that S (Serine), T (Threonine), and Y (Tyrosine) are modifiable and that 79.9663 Da is the modification mass. This is also the default modification."
   ]
  },
  {
   "cell_type": "markdown",
   "id": "33291c07",
   "metadata": {},
   "source": [
    "**Example 1:**\n",
    "```\n",
    "pyascore --residues STY \\\n",
    "         --mod_mass 79.9663 \\\n",
    "         PXD007740.ctr_2h_R1_IMAC_1.mzML \\\n",
    "         PXD007740.ctr_2h_R1_IMAC_1.pep.xml \\\n",
    "         PXD007740.ctr_2h_R1_IMAC_1.pyascore.tsv\n",
    "```"
   ]
  },
  {
   "cell_type": "markdown",
   "id": "58ecec3a",
   "metadata": {},
   "source": [
    "**Result:**\n",
    "```\n",
    "$ ls\n",
    "\n",
    "PXD007740.ctr_2h_R1_IMAC_1.mzML     PXD007740.ctr_2h_R1_IMAC_1.pyascore.tsv\n",
    "PXD007740.ctr_2h_R1_IMAC_1.pep.xml\n",
    "```"
   ]
  },
  {
   "cell_type": "markdown",
   "id": "d37f1dea",
   "metadata": {},
   "source": [
    "### Customizing analysis with command line parameters"
   ]
  },
  {
   "cell_type": "markdown",
   "id": "298aa943",
   "metadata": {},
   "source": [
    "**Run pyAscore with different input file types.** In many cases, individuals will have spectra or identifications in other standard file formats. For spectra, users can also supply mzXML files, and for PSMs, users can supply mzIdentML, percolatorTXT, and mokapotTXT. The format of the input files must be specified with the `--spec_file_type` and `--ident_file_type` arguments respectively."
   ]
  },
  {
   "cell_type": "markdown",
   "id": "a9432f8d",
   "metadata": {},
   "source": [
    "**Example 2:**\n",
    "```\n",
    "pyascore --residues STY \\\n",
    "         --mod_mass 79.9663 \\\n",
    "         --spec_file_type mzXML \\\n",
    "         --ident_file_type mzIdentML \\\n",
    "         PXD007740.ctr_2h_R1_IMAC_1.mzXML \\\n",
    "         PXD007740.ctr_2h_R1_IMAC_1.mzid \\\n",
    "         PXD007740.ctr_2h_R1_IMAC_1.pyascore.tsv\n",
    "```"
   ]
  },
  {
   "cell_type": "markdown",
   "id": "778781a0",
   "metadata": {},
   "source": [
    "**Run pyAscore with lower MS2 tolerance:** pyAscore works by looking for fragment ions within the supplied spectra which match a theoretical fragment pattern. Users should tailor the tolerance of this search so that it matches the instrument resolution. This can be done with the `–mz_error option`. For high resolution data, we have been using a tolerance of 0.02 Da, and for low resolution data, we have been using a tolerance of 0.5 Da. These correspond well to the recommended parameters for the Comet database search software, which can be seen at [http://comet-ms.sourceforge.net/](http://comet-ms.sourceforge.net/)."
   ]
  },
  {
   "cell_type": "markdown",
   "id": "b5aa5cf7",
   "metadata": {},
   "source": [
    "**Example 3:**\n",
    "```\n",
    "$ pyascore --residues STY \\\n",
    "           --mod_mass 79.9663 \\\n",
    "           --mz_error 0.5 \\\n",
    "           PXD007740.ctr_2h_R1_IMAC_1.mzML \\\n",
    "           PXD007740.ctr_2h_R1_IMAC_1.pep.xml \\\n",
    "           PXD007740.ctr_2h_R1_IMAC_1.pyascore.tsv\n",
    "```"
   ]
  },
  {
   "cell_type": "markdown",
   "id": "2a31818b",
   "metadata": {},
   "source": [
    "**Run pyAscore with different fragment types:** By default, pyAscore will score b and y ion fragment peaks, which are the most abundant peaks for HCD and CID fragmentation data. If a user wants to analyze ETD fragmentation data, it is recommended to score c and z+H ions. This can be specified with the `--fragment_types` option. The Z character is used to differentiate the z+H ion from the z ion."
   ]
  },
  {
   "cell_type": "markdown",
   "id": "a37e9de8",
   "metadata": {},
   "source": [
    "**Example 4:**\n",
    "```\n",
    "$ pyascore --residues STY \\\n",
    "           --mod_mass 79.9663 \\\n",
    "           --fragment_types cZ \\\n",
    "           PXD007740.ctr_2h_R1_IMAC_1.mzML \\\n",
    "           PXD007740.ctr_2h_R1_IMAC_1.pep.xml \\\n",
    "           PXD007740.ctr_2h_R1_IMAC_1.pyascore.tsv\n",
    "```"
   ]
  },
  {
   "cell_type": "markdown",
   "id": "729218a6",
   "metadata": {},
   "source": [
    "**Run pyAscore with neutral losses:** A user has the option to use neutral loss peaks in their scoring procedure, and these can be different for modified and unmodified residues. A user can supply a comma sepparated list of amino acid groups, uppercase for unmodified residues and lowercase for modified, and a comma sepparated list of neutral loss masses. If, for example, a user wants to use the H3P04 neutral loss ions, a loss of 97.976896, on modified Ser, Thr, and Tyr residues, they could use the following command. It should be noted that the use of neutral loss peaks is still experimental, and that none of the datasets in the paper were analyzed with this option specified."
   ]
  },
  {
   "cell_type": "markdown",
   "id": "16b2909e",
   "metadata": {},
   "source": [
    "**Example 5:**\n",
    "```\n",
    "$ pyascore --residues STY \\\n",
    "           --mod_mass 79.9663 \\\n",
    "           --neutral_loss_groups sty \\\n",
    "           --neutral_loss_masses 97.976896 \\\n",
    "           PXD007740.ctr_2h_R1_IMAC_1.mzML \\\n",
    "           PXD007740.ctr_2h_R1_IMAC_1.pep.xml \\\n",
    "           PXD007740.ctr_2h_R1_IMAC_1.pyascore.tsv\n",
    "```"
   ]
  },
  {
   "cell_type": "markdown",
   "id": "4144e4fa",
   "metadata": {},
   "source": [
    "### Feeding ID data into pyAscore when your file type is not supported"
   ]
  },
  {
   "cell_type": "markdown",
   "id": "411dd1a2",
   "metadata": {},
   "source": [
    "Often, a user may have used a search engine which doesn’t output a standard format but they still want to connect it to pyAscore. Or they may want to manipulate data before handing it off to pyAscore and want to work with a simpler format for connecting their pipeline than XML based data. This situation is easily handled by the percolatorTXT input format since the standard Percolator output can be reduced to the minimal tab delimited layout below."
   ]
  },
  {
   "cell_type": "markdown",
   "id": "8df27df5",
   "metadata": {},
   "source": [
    "```\n",
    "   scan  rt     sequence                      charge\n",
    "0  2082  304.8  S[79.9663]NNSNSNSGGK          2\n",
    "1  2624  402.8  RARES[79.9663]DNEDAK          3\n",
    "2  2625  402.9  SS[79.9663]NGNESNGAK          2\n",
    "3  2655  405.4  n[42.010565]S[79.9663]DAGRK   2\n",
    "```"
   ]
  },
  {
   "cell_type": "markdown",
   "id": "4af11c45",
   "metadata": {},
   "source": [
    "Once a user makes a tsv file with their PSMs, the data can be fed to pyAscore as though it was a true percolator output file."
   ]
  },
  {
   "cell_type": "markdown",
   "id": "4d9b9127",
   "metadata": {},
   "source": [
    "**Example 6:**\n",
    "```\n",
    "$ pyascore --residues STY \\\n",
    "           --mod_mass 79.9663 \\\n",
    "           --ident_file_type percolatorTXT \\\n",
    "           PXD007740.ctr_2h_R1_IMAC_1.mzML \\\n",
    "           PXD007740.ctr_2h_R1_IMAC_1.tsv \\\n",
    "           PXD007740.ctr_2h_R1_IMAC_1.pyascore.tsv\n",
    "```"
   ]
  },
  {
   "cell_type": "markdown",
   "id": "bf7f3ab6",
   "metadata": {},
   "source": [
    "## Understanding pyAscore's output"
   ]
  },
  {
   "cell_type": "markdown",
   "id": "3391d0b0",
   "metadata": {},
   "source": [
    "pyAscore outputs a single .tsv style file with one entry for every PSM containing the modification of interest. For this tutorial, we ran pyAscore on PXD007740.ctr_2h_R1_IMAC_1.mzML and PXD007740.ctr_2h_R1_IMAC_1.pep.xml using the command in **Example 1**. The output data can analyzed with any program or programming language which reads tab delimited files."
   ]
  },
  {
   "cell_type": "code",
   "execution_count": 1,
   "id": "5cad0d99",
   "metadata": {},
   "outputs": [
    {
     "name": "stdout",
     "output_type": "stream",
     "text": [
      "/net/villen/vol2/users/valenta4/pyAscoreValidation/notebook/pyascore-tutorial\n"
     ]
    }
   ],
   "source": [
    "cd pyascore-tutorial"
   ]
  },
  {
   "cell_type": "code",
   "execution_count": 2,
   "id": "b6d0a897",
   "metadata": {},
   "outputs": [],
   "source": [
    "import pandas as pd"
   ]
  },
  {
   "cell_type": "code",
   "execution_count": 3,
   "id": "d2480bfe",
   "metadata": {},
   "outputs": [
    {
     "name": "stdout",
     "output_type": "stream",
     "text": [
      "Columns and datatypes:\n",
      "Scan                   int64\n",
      "LocalizedSequence     object\n",
      "PepScore             float64\n",
      "Ascores               object\n",
      "AltSites              object\n",
      "dtype: object\n"
     ]
    }
   ],
   "source": [
    "pyascore_output = pd.read_csv(\n",
    "    \"PXD007740.ctr_2h_R1_IMAC_1.pyascore.tsv\",\n",
    "    sep=\"\\t\"\n",
    ")\n",
    "print(\n",
    "    \"Columns and datatypes:\\n{}\".format(\n",
    "        pyascore_output.dtypes)\n",
    ")"
   ]
  },
  {
   "cell_type": "markdown",
   "id": "6ff95591",
   "metadata": {},
   "source": [
    "The output columns of pyAscore can be broken up into two parts. The first part is the final form of the PSMs for a given dataset, i.e. the peptide sequences with re-arranged modifications and the scans which they correspond to.\n",
    "\n",
    "- **Scan:** This is the scan number from the supplied spectra file. It is usually taken from the scan header and so care should by taken that this matches expectations.\n",
    "\n",
    "- **LocalizedSequence:** This is the modified peptide with the PTM of interest placed in the best positions according the the PepScore. All outputed masses are rounded to their whole number representations."
   ]
  },
  {
   "cell_type": "code",
   "execution_count": 4,
   "id": "0a2f069e",
   "metadata": {},
   "outputs": [
    {
     "data": {
      "text/html": [
       "<div>\n",
       "<style scoped>\n",
       "    .dataframe tbody tr th:only-of-type {\n",
       "        vertical-align: middle;\n",
       "    }\n",
       "\n",
       "    .dataframe tbody tr th {\n",
       "        vertical-align: top;\n",
       "    }\n",
       "\n",
       "    .dataframe thead th {\n",
       "        text-align: right;\n",
       "    }\n",
       "</style>\n",
       "<table border=\"1\" class=\"dataframe\">\n",
       "  <thead>\n",
       "    <tr style=\"text-align: right;\">\n",
       "      <th></th>\n",
       "      <th>Scan</th>\n",
       "      <th>LocalizedSequence</th>\n",
       "    </tr>\n",
       "  </thead>\n",
       "  <tbody>\n",
       "    <tr>\n",
       "      <th>1000</th>\n",
       "      <td>6771</td>\n",
       "      <td>NFILDQC[57]NVY[80]NSGQRRK</td>\n",
       "    </tr>\n",
       "    <tr>\n",
       "      <th>1001</th>\n",
       "      <td>6773</td>\n",
       "      <td>RKHQGC[57]SVS[80]FQLEK</td>\n",
       "    </tr>\n",
       "    <tr>\n",
       "      <th>1002</th>\n",
       "      <td>6774</td>\n",
       "      <td>AS[80]S[80]SPSPT[80]QPVLGAQPHSR</td>\n",
       "    </tr>\n",
       "    <tr>\n",
       "      <th>1003</th>\n",
       "      <td>6776</td>\n",
       "      <td>EEKAT[80]M[16]KNVPS[80]R</td>\n",
       "    </tr>\n",
       "    <tr>\n",
       "      <th>1004</th>\n",
       "      <td>6777</td>\n",
       "      <td>SREHPHS[80]RS[80]PS[80]PEPR</td>\n",
       "    </tr>\n",
       "    <tr>\n",
       "      <th>1005</th>\n",
       "      <td>6779</td>\n",
       "      <td>TESLENQLVS[80]VMNEMQK</td>\n",
       "    </tr>\n",
       "    <tr>\n",
       "      <th>1006</th>\n",
       "      <td>6781</td>\n",
       "      <td>SGLVQC[57]GET[80]AWHGGK</td>\n",
       "    </tr>\n",
       "    <tr>\n",
       "      <th>1007</th>\n",
       "      <td>6782</td>\n",
       "      <td>HALAADRLLQNAEEM[16]TGDET[80]AIGNIS[80]LVK</td>\n",
       "    </tr>\n",
       "    <tr>\n",
       "      <th>1008</th>\n",
       "      <td>6784</td>\n",
       "      <td>ILIPFIPAFYINQSELVLS[80]HK</td>\n",
       "    </tr>\n",
       "    <tr>\n",
       "      <th>1009</th>\n",
       "      <td>6786</td>\n",
       "      <td>RRS[80]PPPGPDGHAK</td>\n",
       "    </tr>\n",
       "    <tr>\n",
       "      <th>1010</th>\n",
       "      <td>6787</td>\n",
       "      <td>AEAAAVAGLS[80]T[80]PGSLHR</td>\n",
       "    </tr>\n",
       "    <tr>\n",
       "      <th>1011</th>\n",
       "      <td>6789</td>\n",
       "      <td>AS[80]VSRNVVT[80]HLC[57]WVPREPYILQTSED</td>\n",
       "    </tr>\n",
       "    <tr>\n",
       "      <th>1012</th>\n",
       "      <td>6790</td>\n",
       "      <td>QKKPFS[80]AVALEYIAYATGGVTLIMTAE</td>\n",
       "    </tr>\n",
       "    <tr>\n",
       "      <th>1013</th>\n",
       "      <td>6791</td>\n",
       "      <td>QEVHSC[57]LLS[80]VRAGK</td>\n",
       "    </tr>\n",
       "    <tr>\n",
       "      <th>1014</th>\n",
       "      <td>6792</td>\n",
       "      <td>LDLWSLPPVLVVHLKRFSYS[80]R</td>\n",
       "    </tr>\n",
       "    <tr>\n",
       "      <th>1015</th>\n",
       "      <td>6793</td>\n",
       "      <td>TPAAPAVS[80]R</td>\n",
       "    </tr>\n",
       "    <tr>\n",
       "      <th>1016</th>\n",
       "      <td>6795</td>\n",
       "      <td>RAGVAGS[80]DAAEAETGTR</td>\n",
       "    </tr>\n",
       "    <tr>\n",
       "      <th>1017</th>\n",
       "      <td>6796</td>\n",
       "      <td>KY[80]RPGSNNLM[16]AR</td>\n",
       "    </tr>\n",
       "    <tr>\n",
       "      <th>1018</th>\n",
       "      <td>6797</td>\n",
       "      <td>RRHDS[80]VENSDSHVEK</td>\n",
       "    </tr>\n",
       "    <tr>\n",
       "      <th>1019</th>\n",
       "      <td>6798</td>\n",
       "      <td>WGRESAPS[80]AAASMK</td>\n",
       "    </tr>\n",
       "  </tbody>\n",
       "</table>\n",
       "</div>"
      ],
      "text/plain": [
       "      Scan                          LocalizedSequence\n",
       "1000  6771                  NFILDQC[57]NVY[80]NSGQRRK\n",
       "1001  6773                     RKHQGC[57]SVS[80]FQLEK\n",
       "1002  6774            AS[80]S[80]SPSPT[80]QPVLGAQPHSR\n",
       "1003  6776                   EEKAT[80]M[16]KNVPS[80]R\n",
       "1004  6777                SREHPHS[80]RS[80]PS[80]PEPR\n",
       "1005  6779                      TESLENQLVS[80]VMNEMQK\n",
       "1006  6781                    SGLVQC[57]GET[80]AWHGGK\n",
       "1007  6782  HALAADRLLQNAEEM[16]TGDET[80]AIGNIS[80]LVK\n",
       "1008  6784                  ILIPFIPAFYINQSELVLS[80]HK\n",
       "1009  6786                          RRS[80]PPPGPDGHAK\n",
       "1010  6787                  AEAAAVAGLS[80]T[80]PGSLHR\n",
       "1011  6789     AS[80]VSRNVVT[80]HLC[57]WVPREPYILQTSED\n",
       "1012  6790            QKKPFS[80]AVALEYIAYATGGVTLIMTAE\n",
       "1013  6791                     QEVHSC[57]LLS[80]VRAGK\n",
       "1014  6792                  LDLWSLPPVLVVHLKRFSYS[80]R\n",
       "1015  6793                              TPAAPAVS[80]R\n",
       "1016  6795                      RAGVAGS[80]DAAEAETGTR\n",
       "1017  6796                       KY[80]RPGSNNLM[16]AR\n",
       "1018  6797                        RRHDS[80]VENSDSHVEK\n",
       "1019  6798                         WGRESAPS[80]AAASMK"
      ]
     },
     "execution_count": 4,
     "metadata": {},
     "output_type": "execute_result"
    }
   ],
   "source": [
    "pyascore_output.iloc[1000:1020, :2]"
   ]
  },
  {
   "cell_type": "markdown",
   "id": "7a3040d7",
   "metadata": {},
   "source": [
    "The second set of columns corresponds to the actual scores which come along with the localized sequences. These represent how confident a user should be in the peptide sequence's final form.\n",
    "\n",
    "- **PepScore:** This score gives the total amount of evidence for the listed sequence being correct. It is based on the total number of matching theoretical ions to the ranked peaks within the supplied spectrum. A value of inf means that there is no ambiguity in the localized sequence.\n",
    "\n",
    "- **Ascores:** This semicolon separated list of scores gives the relative amount of evidence for the localization of the modification of interest vs the next best localization. It is based on the number of matching theoretical site determining ion peaks in the supplied spectrum. A value of inf means that there is no ambiguity in the site placement. There is one entry in the list per modification of interest on the peptide.\n",
    "\n",
    "- **Altsites:** This semicolon separated list of comma separated positions gives the next best locations for a modification. There is one list of alternative sites per modification of interest on the peptide.\n"
   ]
  },
  {
   "cell_type": "code",
   "execution_count": 5,
   "id": "8cafe53a",
   "metadata": {},
   "outputs": [
    {
     "data": {
      "text/html": [
       "<div>\n",
       "<style scoped>\n",
       "    .dataframe tbody tr th:only-of-type {\n",
       "        vertical-align: middle;\n",
       "    }\n",
       "\n",
       "    .dataframe tbody tr th {\n",
       "        vertical-align: top;\n",
       "    }\n",
       "\n",
       "    .dataframe thead th {\n",
       "        text-align: right;\n",
       "    }\n",
       "</style>\n",
       "<table border=\"1\" class=\"dataframe\">\n",
       "  <thead>\n",
       "    <tr style=\"text-align: right;\">\n",
       "      <th></th>\n",
       "      <th>PepScore</th>\n",
       "      <th>Ascores</th>\n",
       "      <th>AltSites</th>\n",
       "    </tr>\n",
       "  </thead>\n",
       "  <tbody>\n",
       "    <tr>\n",
       "      <th>1000</th>\n",
       "      <td>41.231426</td>\n",
       "      <td>61.68848</td>\n",
       "      <td>12</td>\n",
       "    </tr>\n",
       "    <tr>\n",
       "      <th>1001</th>\n",
       "      <td>3.477892</td>\n",
       "      <td>0.0</td>\n",
       "      <td>7</td>\n",
       "    </tr>\n",
       "    <tr>\n",
       "      <th>1002</th>\n",
       "      <td>1.555447</td>\n",
       "      <td>0.0;0.0;1.3276455</td>\n",
       "      <td>4,6;4,6;4,6</td>\n",
       "    </tr>\n",
       "    <tr>\n",
       "      <th>1003</th>\n",
       "      <td>inf</td>\n",
       "      <td>inf;inf</td>\n",
       "      <td>;</td>\n",
       "    </tr>\n",
       "    <tr>\n",
       "      <th>1004</th>\n",
       "      <td>7.417679</td>\n",
       "      <td>5.2201395;2.8990664;3.8300576</td>\n",
       "      <td>1;1;1</td>\n",
       "    </tr>\n",
       "    <tr>\n",
       "      <th>1005</th>\n",
       "      <td>4.110435</td>\n",
       "      <td>3.235395</td>\n",
       "      <td>1</td>\n",
       "    </tr>\n",
       "    <tr>\n",
       "      <th>1006</th>\n",
       "      <td>0.703247</td>\n",
       "      <td>1.3716472</td>\n",
       "      <td>1</td>\n",
       "    </tr>\n",
       "    <tr>\n",
       "      <th>1007</th>\n",
       "      <td>0.487868</td>\n",
       "      <td>5.5877275;2.5625544</td>\n",
       "      <td>16;16</td>\n",
       "    </tr>\n",
       "    <tr>\n",
       "      <th>1008</th>\n",
       "      <td>0.655502</td>\n",
       "      <td>5.1771717</td>\n",
       "      <td>10,14</td>\n",
       "    </tr>\n",
       "    <tr>\n",
       "      <th>1009</th>\n",
       "      <td>inf</td>\n",
       "      <td>inf</td>\n",
       "      <td>NaN</td>\n",
       "    </tr>\n",
       "    <tr>\n",
       "      <th>1010</th>\n",
       "      <td>2.231865</td>\n",
       "      <td>8.2815;9.445639</td>\n",
       "      <td>14;14</td>\n",
       "    </tr>\n",
       "    <tr>\n",
       "      <th>1011</th>\n",
       "      <td>3.024296</td>\n",
       "      <td>0.0;2.5625544</td>\n",
       "      <td>4;19</td>\n",
       "    </tr>\n",
       "    <tr>\n",
       "      <th>1012</th>\n",
       "      <td>2.824603</td>\n",
       "      <td>3.4938502</td>\n",
       "      <td>21</td>\n",
       "    </tr>\n",
       "    <tr>\n",
       "      <th>1013</th>\n",
       "      <td>8.259339</td>\n",
       "      <td>5.5877275</td>\n",
       "      <td>5</td>\n",
       "    </tr>\n",
       "    <tr>\n",
       "      <th>1014</th>\n",
       "      <td>1.153180</td>\n",
       "      <td>0.0</td>\n",
       "      <td>18,19</td>\n",
       "    </tr>\n",
       "    <tr>\n",
       "      <th>1015</th>\n",
       "      <td>7.890110</td>\n",
       "      <td>15.081932</td>\n",
       "      <td>1</td>\n",
       "    </tr>\n",
       "    <tr>\n",
       "      <th>1016</th>\n",
       "      <td>1.792431</td>\n",
       "      <td>5.098371</td>\n",
       "      <td>14</td>\n",
       "    </tr>\n",
       "    <tr>\n",
       "      <th>1017</th>\n",
       "      <td>0.540202</td>\n",
       "      <td>6.689336</td>\n",
       "      <td>6</td>\n",
       "    </tr>\n",
       "    <tr>\n",
       "      <th>1018</th>\n",
       "      <td>20.135679</td>\n",
       "      <td>6.689336</td>\n",
       "      <td>9</td>\n",
       "    </tr>\n",
       "    <tr>\n",
       "      <th>1019</th>\n",
       "      <td>20.096830</td>\n",
       "      <td>21.08156</td>\n",
       "      <td>12</td>\n",
       "    </tr>\n",
       "  </tbody>\n",
       "</table>\n",
       "</div>"
      ],
      "text/plain": [
       "       PepScore                        Ascores     AltSites\n",
       "1000  41.231426                       61.68848           12\n",
       "1001   3.477892                            0.0            7\n",
       "1002   1.555447              0.0;0.0;1.3276455  4,6;4,6;4,6\n",
       "1003        inf                        inf;inf            ;\n",
       "1004   7.417679  5.2201395;2.8990664;3.8300576        1;1;1\n",
       "1005   4.110435                       3.235395            1\n",
       "1006   0.703247                      1.3716472            1\n",
       "1007   0.487868            5.5877275;2.5625544        16;16\n",
       "1008   0.655502                      5.1771717        10,14\n",
       "1009        inf                            inf          NaN\n",
       "1010   2.231865                8.2815;9.445639        14;14\n",
       "1011   3.024296                  0.0;2.5625544         4;19\n",
       "1012   2.824603                      3.4938502           21\n",
       "1013   8.259339                      5.5877275            5\n",
       "1014   1.153180                            0.0        18,19\n",
       "1015   7.890110                      15.081932            1\n",
       "1016   1.792431                       5.098371           14\n",
       "1017   0.540202                       6.689336            6\n",
       "1018  20.135679                       6.689336            9\n",
       "1019  20.096830                       21.08156           12"
      ]
     },
     "execution_count": 5,
     "metadata": {},
     "output_type": "execute_result"
    }
   ],
   "source": [
    "pyascore_output.iloc[1000:1020, 2:]"
   ]
  },
  {
   "cell_type": "markdown",
   "id": "27e01cba",
   "metadata": {},
   "source": [
    "Most users will be interested in the Ascores for a given site. These are defined on a scale which corresponds to a negative log p-value, which means that increasing scores are better. Several cuttoffs may be of interest to the user:\n",
    "\n",
    "- 20 (Theoretical confidence of 99%)\n",
    "\n",
    "- 13 (Theoretical confidence of 95%)\n",
    "\n",
    "- 10 (Theoretical confidence of 90%)\n",
    "\n",
    "Within our lab, we tend to use a cutoff of 13, although the final choice will require considering the balance between false localization rate and number of localized PSMs."
   ]
  },
  {
   "cell_type": "markdown",
   "id": "900967a5",
   "metadata": {},
   "source": [
    "**Note:** While pyAscores output can be analyzed on its own. Usually, it is best to filter PSMs to the desired FDR level (e.g. 1%) and then use the localization scores as a secondary filter."
   ]
  }
 ],
 "metadata": {
  "celltoolbar": "Raw Cell Format",
  "kernelspec": {
   "display_name": "Python 3 (ipykernel)",
   "language": "python",
   "name": "python3"
  },
  "language_info": {
   "codemirror_mode": {
    "name": "ipython",
    "version": 3
   },
   "file_extension": ".py",
   "mimetype": "text/x-python",
   "name": "python",
   "nbconvert_exporter": "python",
   "pygments_lexer": "ipython3",
   "version": "3.8.12"
  }
 },
 "nbformat": 4,
 "nbformat_minor": 5
}
